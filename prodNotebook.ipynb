{
 "metadata": {
  "language_info": {
   "codemirror_mode": {
    "name": "ipython",
    "version": 3
   },
   "file_extension": ".py",
   "mimetype": "text/x-python",
   "name": "python",
   "nbconvert_exporter": "python",
   "pygments_lexer": "ipython3",
   "version": "3.8.5-final"
  },
  "orig_nbformat": 2,
  "kernelspec": {
   "name": "python38564bitef1eb12eb1054037be818665447e8f98",
   "display_name": "Python 3.8.5 64-bit",
   "language": "python"
  }
 },
 "nbformat": 4,
 "nbformat_minor": 2,
 "cells": [
  {
   "cell_type": "code",
   "execution_count": 6,
   "metadata": {},
   "outputs": [],
   "source": [
    "import pandas as pd\n",
    "import numpy\n",
    "import matplotlib as mpl\n",
    "\n",
    "\n",
    "csv20 = 'data/pit2020_race.csv'\n",
    "csv19 = 'data/pit2019_race.csv'\n",
    "\n",
    "df20 = pd.read_csv(csv20, index_col='race')\n",
    "df20['2020_percent'] = df20['total'] / df20['total'].sum(1)\n",
    "\n",
    "df19 = pd.read_csv(csv19, index_col='race')\n",
    "\n",
    "dfMerged = pd.merge(df19, df20, on='race')\n"
   ]
  },
  {
   "cell_type": "code",
   "execution_count": 7,
   "metadata": {},
   "outputs": [
    {
     "output_type": "execute_result",
     "data": {
      "text/plain": [
       "                                          id_x  emergency_x  transitional_x  \\\n",
       "race                                                                          \n",
       "White                                        0         66.0             8.0   \n",
       "Black or African American                    1         94.0            51.0   \n",
       "Asian                                        2          1.0             0.0   \n",
       "American Indian or Alaskan Native            3          2.0             0.0   \n",
       "Native Hawaiian or Other Pacific Islander    4          0.0             0.0   \n",
       "Multiple Races                               5         31.0             9.0   \n",
       "\n",
       "                                           unsheltered_x  total_x id_y  \\\n",
       "race                                                                     \n",
       "White                                                0.0     74.0    0   \n",
       "Black or African American                            0.0    145.0    1   \n",
       "Asian                                                0.0      1.0    2   \n",
       "American Indian or Alaskan Native                    0.0      2.0    3   \n",
       "Native Hawaiian or Other Pacific Islander            0.0      0.0    4   \n",
       "Multiple Races                                       0.0     40.0    5   \n",
       "\n",
       "                                           emergency_y  transitional_y  \\\n",
       "race                                                                     \n",
       "White                                             61.0            19.0   \n",
       "Black or African American                        104.0            47.0   \n",
       "Asian                                              5.0             0.0   \n",
       "American Indian or Alaskan Native                  0.0             0.0   \n",
       "Native Hawaiian or Other Pacific Islander          0.0             0.0   \n",
       "Multiple Races                                    25.0             4.0   \n",
       "\n",
       "                                           unsheltered_y  total_y  \\\n",
       "race                                                                \n",
       "White                                                3.0     83.0   \n",
       "Black or African American                            0.0    151.0   \n",
       "Asian                                                0.0      5.0   \n",
       "American Indian or Alaskan Native                    0.0      0.0   \n",
       "Native Hawaiian or Other Pacific Islander            0.0      0.0   \n",
       "Multiple Races                                       0.0     29.0   \n",
       "\n",
       "                                           2020_percent  \n",
       "race                                                     \n",
       "White                                          0.309701  \n",
       "Black or African American                      0.563433  \n",
       "Asian                                          0.018657  \n",
       "American Indian or Alaskan Native              0.000000  \n",
       "Native Hawaiian or Other Pacific Islander      0.000000  \n",
       "Multiple Races                                 0.108209  "
      ],
      "text/html": "<div>\n<style scoped>\n    .dataframe tbody tr th:only-of-type {\n        vertical-align: middle;\n    }\n\n    .dataframe tbody tr th {\n        vertical-align: top;\n    }\n\n    .dataframe thead th {\n        text-align: right;\n    }\n</style>\n<table border=\"1\" class=\"dataframe\">\n  <thead>\n    <tr style=\"text-align: right;\">\n      <th></th>\n      <th>id_x</th>\n      <th>emergency_x</th>\n      <th>transitional_x</th>\n      <th>unsheltered_x</th>\n      <th>total_x</th>\n      <th>id_y</th>\n      <th>emergency_y</th>\n      <th>transitional_y</th>\n      <th>unsheltered_y</th>\n      <th>total_y</th>\n      <th>2020_percent</th>\n    </tr>\n    <tr>\n      <th>race</th>\n      <th></th>\n      <th></th>\n      <th></th>\n      <th></th>\n      <th></th>\n      <th></th>\n      <th></th>\n      <th></th>\n      <th></th>\n      <th></th>\n      <th></th>\n    </tr>\n  </thead>\n  <tbody>\n    <tr>\n      <th>White</th>\n      <td>0</td>\n      <td>66.0</td>\n      <td>8.0</td>\n      <td>0.0</td>\n      <td>74.0</td>\n      <td>0</td>\n      <td>61.0</td>\n      <td>19.0</td>\n      <td>3.0</td>\n      <td>83.0</td>\n      <td>0.309701</td>\n    </tr>\n    <tr>\n      <th>Black or African American</th>\n      <td>1</td>\n      <td>94.0</td>\n      <td>51.0</td>\n      <td>0.0</td>\n      <td>145.0</td>\n      <td>1</td>\n      <td>104.0</td>\n      <td>47.0</td>\n      <td>0.0</td>\n      <td>151.0</td>\n      <td>0.563433</td>\n    </tr>\n    <tr>\n      <th>Asian</th>\n      <td>2</td>\n      <td>1.0</td>\n      <td>0.0</td>\n      <td>0.0</td>\n      <td>1.0</td>\n      <td>2</td>\n      <td>5.0</td>\n      <td>0.0</td>\n      <td>0.0</td>\n      <td>5.0</td>\n      <td>0.018657</td>\n    </tr>\n    <tr>\n      <th>American Indian or Alaskan Native</th>\n      <td>3</td>\n      <td>2.0</td>\n      <td>0.0</td>\n      <td>0.0</td>\n      <td>2.0</td>\n      <td>3</td>\n      <td>0.0</td>\n      <td>0.0</td>\n      <td>0.0</td>\n      <td>0.0</td>\n      <td>0.000000</td>\n    </tr>\n    <tr>\n      <th>Native Hawaiian or Other Pacific Islander</th>\n      <td>4</td>\n      <td>0.0</td>\n      <td>0.0</td>\n      <td>0.0</td>\n      <td>0.0</td>\n      <td>4</td>\n      <td>0.0</td>\n      <td>0.0</td>\n      <td>0.0</td>\n      <td>0.0</td>\n      <td>0.000000</td>\n    </tr>\n    <tr>\n      <th>Multiple Races</th>\n      <td>5</td>\n      <td>31.0</td>\n      <td>9.0</td>\n      <td>0.0</td>\n      <td>40.0</td>\n      <td>5</td>\n      <td>25.0</td>\n      <td>4.0</td>\n      <td>0.0</td>\n      <td>29.0</td>\n      <td>0.108209</td>\n    </tr>\n  </tbody>\n</table>\n</div>"
     },
     "metadata": {},
     "execution_count": 7
    }
   ],
   "source": [
    "dfMerged.head(6)"
   ]
  },
  {
   "cell_type": "code",
   "execution_count": null,
   "metadata": {},
   "outputs": [],
   "source": []
  }
 ]
}