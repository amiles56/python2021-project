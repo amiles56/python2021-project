{
 "metadata": {
  "language_info": {
   "codemirror_mode": {
    "name": "ipython",
    "version": 3
   },
   "file_extension": ".py",
   "mimetype": "text/x-python",
   "name": "python",
   "nbconvert_exporter": "python",
   "pygments_lexer": "ipython3",
   "version": "3.8.5-final"
  },
  "orig_nbformat": 2,
  "kernelspec": {
   "name": "python38564bitef1eb12eb1054037be818665447e8f98",
   "display_name": "Python 3.8.5 64-bit",
   "language": "python"
  }
 },
 "nbformat": 4,
 "nbformat_minor": 2,
 "cells": [
  {
   "cell_type": "code",
   "execution_count": 2,
   "metadata": {},
   "outputs": [],
   "source": [
    "import pandas as pd\n",
    "import numpy\n",
    "\n",
    "csv20 = 'data/pit2020_race.csv'\n",
    "csv19 = 'data/pit2019_race.csv'\n",
    "\n",
    "df20 = pd.read_csv(csv20, index_col='id')\n",
    "df19 = pd.read_csv(csv19, index_col='id')\n",
    "\n",
    "dfMerged = pd.merge(df19, df20, on='race')\n"
   ]
  },
  {
   "cell_type": "code",
   "execution_count": 3,
   "metadata": {},
   "outputs": [
    {
     "output_type": "execute_result",
     "data": {
      "text/plain": [
       "                                       race_x  emergency_x  transitional_x  \\\n",
       "id                                                                           \n",
       "0                                       White         66.0             8.0   \n",
       "1                   Black or African American         94.0            51.0   \n",
       "3                                       Asian          1.0             0.0   \n",
       "4           American Indian or Alaskan Native          2.0             0.0   \n",
       "5   Native Hawaiian or Other Pacific Islander          0.0             0.0   \n",
       "6                              Multiple Races         31.0             9.0   \n",
       "\n",
       "    unsheltered_x  total_x                                     race_y  \\\n",
       "id                                                                      \n",
       "0             0.0     74.0                                      White   \n",
       "1             0.0    145.0                  Black or African American   \n",
       "3             0.0      1.0                                      Asian   \n",
       "4             0.0      2.0          American Indian or Alaskan Native   \n",
       "5             0.0      0.0  Native Hawaiian or Other Pacific Islander   \n",
       "6             0.0     40.0                             Multiple Races   \n",
       "\n",
       "    emergency_y  transitional_y  unsheltered_y  total_y  \n",
       "id                                                       \n",
       "0          61.0            19.0            3.0     83.0  \n",
       "1         104.0            47.0            0.0    151.0  \n",
       "3           5.0             0.0            0.0      5.0  \n",
       "4           0.0             0.0            0.0      0.0  \n",
       "5           0.0             0.0            0.0      0.0  \n",
       "6          25.0             4.0            0.0     29.0  "
      ],
      "text/html": "<div>\n<style scoped>\n    .dataframe tbody tr th:only-of-type {\n        vertical-align: middle;\n    }\n\n    .dataframe tbody tr th {\n        vertical-align: top;\n    }\n\n    .dataframe thead th {\n        text-align: right;\n    }\n</style>\n<table border=\"1\" class=\"dataframe\">\n  <thead>\n    <tr style=\"text-align: right;\">\n      <th></th>\n      <th>race_x</th>\n      <th>emergency_x</th>\n      <th>transitional_x</th>\n      <th>unsheltered_x</th>\n      <th>total_x</th>\n      <th>race_y</th>\n      <th>emergency_y</th>\n      <th>transitional_y</th>\n      <th>unsheltered_y</th>\n      <th>total_y</th>\n    </tr>\n    <tr>\n      <th>id</th>\n      <th></th>\n      <th></th>\n      <th></th>\n      <th></th>\n      <th></th>\n      <th></th>\n      <th></th>\n      <th></th>\n      <th></th>\n      <th></th>\n    </tr>\n  </thead>\n  <tbody>\n    <tr>\n      <th>0</th>\n      <td>White</td>\n      <td>66.0</td>\n      <td>8.0</td>\n      <td>0.0</td>\n      <td>74.0</td>\n      <td>White</td>\n      <td>61.0</td>\n      <td>19.0</td>\n      <td>3.0</td>\n      <td>83.0</td>\n    </tr>\n    <tr>\n      <th>1</th>\n      <td>Black or African American</td>\n      <td>94.0</td>\n      <td>51.0</td>\n      <td>0.0</td>\n      <td>145.0</td>\n      <td>Black or African American</td>\n      <td>104.0</td>\n      <td>47.0</td>\n      <td>0.0</td>\n      <td>151.0</td>\n    </tr>\n    <tr>\n      <th>3</th>\n      <td>Asian</td>\n      <td>1.0</td>\n      <td>0.0</td>\n      <td>0.0</td>\n      <td>1.0</td>\n      <td>Asian</td>\n      <td>5.0</td>\n      <td>0.0</td>\n      <td>0.0</td>\n      <td>5.0</td>\n    </tr>\n    <tr>\n      <th>4</th>\n      <td>American Indian or Alaskan Native</td>\n      <td>2.0</td>\n      <td>0.0</td>\n      <td>0.0</td>\n      <td>2.0</td>\n      <td>American Indian or Alaskan Native</td>\n      <td>0.0</td>\n      <td>0.0</td>\n      <td>0.0</td>\n      <td>0.0</td>\n    </tr>\n    <tr>\n      <th>5</th>\n      <td>Native Hawaiian or Other Pacific Islander</td>\n      <td>0.0</td>\n      <td>0.0</td>\n      <td>0.0</td>\n      <td>0.0</td>\n      <td>Native Hawaiian or Other Pacific Islander</td>\n      <td>0.0</td>\n      <td>0.0</td>\n      <td>0.0</td>\n      <td>0.0</td>\n    </tr>\n    <tr>\n      <th>6</th>\n      <td>Multiple Races</td>\n      <td>31.0</td>\n      <td>9.0</td>\n      <td>0.0</td>\n      <td>40.0</td>\n      <td>Multiple Races</td>\n      <td>25.0</td>\n      <td>4.0</td>\n      <td>0.0</td>\n      <td>29.0</td>\n    </tr>\n  </tbody>\n</table>\n</div>"
     },
     "metadata": {},
     "execution_count": 3
    }
   ],
   "source": [
    "dfMerged.head(6)"
   ]
  },
  {
   "cell_type": "code",
   "execution_count": null,
   "metadata": {},
   "outputs": [],
   "source": []
  }
 ]
}